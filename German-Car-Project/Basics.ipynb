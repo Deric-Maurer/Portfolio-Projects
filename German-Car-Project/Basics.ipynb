{
 "cells": [
  {
   "cell_type": "markdown",
   "metadata": {
    "collapsed": true
   },
   "source": [
    "# Cleaning and Analyzing Used Car Data"
   ]
  },
  {
   "cell_type": "code",
   "execution_count": 1,
   "metadata": {},
   "outputs": [],
   "source": [
    "import numpy as np\n",
    "import pandas as pd"
   ]
  },
  {
   "cell_type": "code",
   "execution_count": 2,
   "metadata": {},
   "outputs": [
    {
     "data": {
      "text/html": [
       "<div>\n",
       "<style scoped>\n",
       "    .dataframe tbody tr th:only-of-type {\n",
       "        vertical-align: middle;\n",
       "    }\n",
       "\n",
       "    .dataframe tbody tr th {\n",
       "        vertical-align: top;\n",
       "    }\n",
       "\n",
       "    .dataframe thead th {\n",
       "        text-align: right;\n",
       "    }\n",
       "</style>\n",
       "<table border=\"1\" class=\"dataframe\">\n",
       "  <thead>\n",
       "    <tr style=\"text-align: right;\">\n",
       "      <th></th>\n",
       "      <th>dateCrawled</th>\n",
       "      <th>name</th>\n",
       "      <th>seller</th>\n",
       "      <th>offerType</th>\n",
       "      <th>price</th>\n",
       "      <th>abtest</th>\n",
       "      <th>vehicleType</th>\n",
       "      <th>yearOfRegistration</th>\n",
       "      <th>gearbox</th>\n",
       "      <th>powerPS</th>\n",
       "      <th>model</th>\n",
       "      <th>odometer</th>\n",
       "      <th>monthOfRegistration</th>\n",
       "      <th>fuelType</th>\n",
       "      <th>brand</th>\n",
       "      <th>notRepairedDamage</th>\n",
       "      <th>dateCreated</th>\n",
       "      <th>nrOfPictures</th>\n",
       "      <th>postalCode</th>\n",
       "      <th>lastSeen</th>\n",
       "    </tr>\n",
       "  </thead>\n",
       "  <tbody>\n",
       "    <tr>\n",
       "      <th>0</th>\n",
       "      <td>2016-03-26 17:47:46</td>\n",
       "      <td>Peugeot_807_160_NAVTECH_ON_BOARD</td>\n",
       "      <td>privat</td>\n",
       "      <td>Angebot</td>\n",
       "      <td>$5,000</td>\n",
       "      <td>control</td>\n",
       "      <td>bus</td>\n",
       "      <td>2004</td>\n",
       "      <td>manuell</td>\n",
       "      <td>158</td>\n",
       "      <td>andere</td>\n",
       "      <td>150,000km</td>\n",
       "      <td>3</td>\n",
       "      <td>lpg</td>\n",
       "      <td>peugeot</td>\n",
       "      <td>nein</td>\n",
       "      <td>2016-03-26 00:00:00</td>\n",
       "      <td>0</td>\n",
       "      <td>79588</td>\n",
       "      <td>2016-04-06 06:45:54</td>\n",
       "    </tr>\n",
       "    <tr>\n",
       "      <th>1</th>\n",
       "      <td>2016-04-04 13:38:56</td>\n",
       "      <td>BMW_740i_4_4_Liter_HAMANN_UMBAU_Mega_Optik</td>\n",
       "      <td>privat</td>\n",
       "      <td>Angebot</td>\n",
       "      <td>$8,500</td>\n",
       "      <td>control</td>\n",
       "      <td>limousine</td>\n",
       "      <td>1997</td>\n",
       "      <td>automatik</td>\n",
       "      <td>286</td>\n",
       "      <td>7er</td>\n",
       "      <td>150,000km</td>\n",
       "      <td>6</td>\n",
       "      <td>benzin</td>\n",
       "      <td>bmw</td>\n",
       "      <td>nein</td>\n",
       "      <td>2016-04-04 00:00:00</td>\n",
       "      <td>0</td>\n",
       "      <td>71034</td>\n",
       "      <td>2016-04-06 14:45:08</td>\n",
       "    </tr>\n",
       "    <tr>\n",
       "      <th>2</th>\n",
       "      <td>2016-03-26 18:57:24</td>\n",
       "      <td>Volkswagen_Golf_1.6_United</td>\n",
       "      <td>privat</td>\n",
       "      <td>Angebot</td>\n",
       "      <td>$8,990</td>\n",
       "      <td>test</td>\n",
       "      <td>limousine</td>\n",
       "      <td>2009</td>\n",
       "      <td>manuell</td>\n",
       "      <td>102</td>\n",
       "      <td>golf</td>\n",
       "      <td>70,000km</td>\n",
       "      <td>7</td>\n",
       "      <td>benzin</td>\n",
       "      <td>volkswagen</td>\n",
       "      <td>nein</td>\n",
       "      <td>2016-03-26 00:00:00</td>\n",
       "      <td>0</td>\n",
       "      <td>35394</td>\n",
       "      <td>2016-04-06 20:15:37</td>\n",
       "    </tr>\n",
       "    <tr>\n",
       "      <th>3</th>\n",
       "      <td>2016-03-12 16:58:10</td>\n",
       "      <td>Smart_smart_fortwo_coupe_softouch/F1/Klima/Pan...</td>\n",
       "      <td>privat</td>\n",
       "      <td>Angebot</td>\n",
       "      <td>$4,350</td>\n",
       "      <td>control</td>\n",
       "      <td>kleinwagen</td>\n",
       "      <td>2007</td>\n",
       "      <td>automatik</td>\n",
       "      <td>71</td>\n",
       "      <td>fortwo</td>\n",
       "      <td>70,000km</td>\n",
       "      <td>6</td>\n",
       "      <td>benzin</td>\n",
       "      <td>smart</td>\n",
       "      <td>nein</td>\n",
       "      <td>2016-03-12 00:00:00</td>\n",
       "      <td>0</td>\n",
       "      <td>33729</td>\n",
       "      <td>2016-03-15 03:16:28</td>\n",
       "    </tr>\n",
       "    <tr>\n",
       "      <th>4</th>\n",
       "      <td>2016-04-01 14:38:50</td>\n",
       "      <td>Ford_Focus_1_6_Benzin_TÜV_neu_ist_sehr_gepfleg...</td>\n",
       "      <td>privat</td>\n",
       "      <td>Angebot</td>\n",
       "      <td>$1,350</td>\n",
       "      <td>test</td>\n",
       "      <td>kombi</td>\n",
       "      <td>2003</td>\n",
       "      <td>manuell</td>\n",
       "      <td>0</td>\n",
       "      <td>focus</td>\n",
       "      <td>150,000km</td>\n",
       "      <td>7</td>\n",
       "      <td>benzin</td>\n",
       "      <td>ford</td>\n",
       "      <td>nein</td>\n",
       "      <td>2016-04-01 00:00:00</td>\n",
       "      <td>0</td>\n",
       "      <td>39218</td>\n",
       "      <td>2016-04-01 14:38:50</td>\n",
       "    </tr>\n",
       "  </tbody>\n",
       "</table>\n",
       "</div>"
      ],
      "text/plain": [
       "           dateCrawled                                               name  \\\n",
       "0  2016-03-26 17:47:46                   Peugeot_807_160_NAVTECH_ON_BOARD   \n",
       "1  2016-04-04 13:38:56         BMW_740i_4_4_Liter_HAMANN_UMBAU_Mega_Optik   \n",
       "2  2016-03-26 18:57:24                         Volkswagen_Golf_1.6_United   \n",
       "3  2016-03-12 16:58:10  Smart_smart_fortwo_coupe_softouch/F1/Klima/Pan...   \n",
       "4  2016-04-01 14:38:50  Ford_Focus_1_6_Benzin_TÜV_neu_ist_sehr_gepfleg...   \n",
       "\n",
       "   seller offerType   price   abtest vehicleType  yearOfRegistration  \\\n",
       "0  privat   Angebot  $5,000  control         bus                2004   \n",
       "1  privat   Angebot  $8,500  control   limousine                1997   \n",
       "2  privat   Angebot  $8,990     test   limousine                2009   \n",
       "3  privat   Angebot  $4,350  control  kleinwagen                2007   \n",
       "4  privat   Angebot  $1,350     test       kombi                2003   \n",
       "\n",
       "     gearbox  powerPS   model   odometer  monthOfRegistration fuelType  \\\n",
       "0    manuell      158  andere  150,000km                    3      lpg   \n",
       "1  automatik      286     7er  150,000km                    6   benzin   \n",
       "2    manuell      102    golf   70,000km                    7   benzin   \n",
       "3  automatik       71  fortwo   70,000km                    6   benzin   \n",
       "4    manuell        0   focus  150,000km                    7   benzin   \n",
       "\n",
       "        brand notRepairedDamage          dateCreated  nrOfPictures  \\\n",
       "0     peugeot              nein  2016-03-26 00:00:00             0   \n",
       "1         bmw              nein  2016-04-04 00:00:00             0   \n",
       "2  volkswagen              nein  2016-03-26 00:00:00             0   \n",
       "3       smart              nein  2016-03-12 00:00:00             0   \n",
       "4        ford              nein  2016-04-01 00:00:00             0   \n",
       "\n",
       "   postalCode             lastSeen  \n",
       "0       79588  2016-04-06 06:45:54  \n",
       "1       71034  2016-04-06 14:45:08  \n",
       "2       35394  2016-04-06 20:15:37  \n",
       "3       33729  2016-03-15 03:16:28  \n",
       "4       39218  2016-04-01 14:38:50  "
      ]
     },
     "execution_count": 2,
     "metadata": {},
     "output_type": "execute_result"
    }
   ],
   "source": [
    "autos = pd.read_csv('autos.csv', encoding='Latin-1')\n",
    "autos.head()"
   ]
  },
  {
   "cell_type": "code",
   "execution_count": 3,
   "metadata": {},
   "outputs": [
    {
     "name": "stdout",
     "output_type": "stream",
     "text": [
      "<class 'pandas.core.frame.DataFrame'>\n",
      "RangeIndex: 50000 entries, 0 to 49999\n",
      "Data columns (total 20 columns):\n",
      " #   Column               Non-Null Count  Dtype \n",
      "---  ------               --------------  ----- \n",
      " 0   dateCrawled          50000 non-null  object\n",
      " 1   name                 50000 non-null  object\n",
      " 2   seller               50000 non-null  object\n",
      " 3   offerType            50000 non-null  object\n",
      " 4   price                50000 non-null  object\n",
      " 5   abtest               50000 non-null  object\n",
      " 6   vehicleType          44905 non-null  object\n",
      " 7   yearOfRegistration   50000 non-null  int64 \n",
      " 8   gearbox              47320 non-null  object\n",
      " 9   powerPS              50000 non-null  int64 \n",
      " 10  model                47242 non-null  object\n",
      " 11  odometer             50000 non-null  object\n",
      " 12  monthOfRegistration  50000 non-null  int64 \n",
      " 13  fuelType             45518 non-null  object\n",
      " 14  brand                50000 non-null  object\n",
      " 15  notRepairedDamage    40171 non-null  object\n",
      " 16  dateCreated          50000 non-null  object\n",
      " 17  nrOfPictures         50000 non-null  int64 \n",
      " 18  postalCode           50000 non-null  int64 \n",
      " 19  lastSeen             50000 non-null  object\n",
      "dtypes: int64(5), object(15)\n",
      "memory usage: 7.6+ MB\n"
     ]
    }
   ],
   "source": [
    "autos.info()"
   ]
  },
  {
   "cell_type": "markdown",
   "metadata": {},
   "source": [
    "There is a quite a large amount of missing info in multiple categories. If we were to preform a data science project to predict information, we would need to determine a method to replace empty values/drop data from the analysis."
   ]
  },
  {
   "cell_type": "code",
   "execution_count": 4,
   "metadata": {},
   "outputs": [],
   "source": [
    "new_names = autos.columns.copy()"
   ]
  },
  {
   "cell_type": "code",
   "execution_count": 5,
   "metadata": {},
   "outputs": [
    {
     "name": "stdout",
     "output_type": "stream",
     "text": [
      "Index(['dateCrawled', 'name', 'seller', 'offerType', 'price', 'abtest',\n",
      "       'vehicleType', 'yearOfRegistration', 'gearbox', 'powerPS', 'model',\n",
      "       'odometer', 'monthOfRegistration', 'fuelType', 'brand',\n",
      "       'notRepairedDamage', 'dateCreated', 'nrOfPictures', 'postalCode',\n",
      "       'lastSeen'],\n",
      "      dtype='object')\n"
     ]
    }
   ],
   "source": [
    "print(new_names)"
   ]
  },
  {
   "cell_type": "code",
   "execution_count": 6,
   "metadata": {},
   "outputs": [],
   "source": [
    "autos.columns = ['crawl_date', 'name', 'seller', 'offer_type', 'price', 'abtest',\n",
    "       'vehicleType', 'registration_year', 'gearbox', 'power_ps', 'model',\n",
    "       'odometer', 'registration_month', 'fuel_type', 'brand',\n",
    "       'unrepaired_damage', 'ad_created', 'picture_amount', 'postal_code',\n",
    "       'last_seen']"
   ]
  },
  {
   "cell_type": "code",
   "execution_count": 7,
   "metadata": {},
   "outputs": [
    {
     "data": {
      "text/html": [
       "<div>\n",
       "<style scoped>\n",
       "    .dataframe tbody tr th:only-of-type {\n",
       "        vertical-align: middle;\n",
       "    }\n",
       "\n",
       "    .dataframe tbody tr th {\n",
       "        vertical-align: top;\n",
       "    }\n",
       "\n",
       "    .dataframe thead th {\n",
       "        text-align: right;\n",
       "    }\n",
       "</style>\n",
       "<table border=\"1\" class=\"dataframe\">\n",
       "  <thead>\n",
       "    <tr style=\"text-align: right;\">\n",
       "      <th></th>\n",
       "      <th>crawl_date</th>\n",
       "      <th>name</th>\n",
       "      <th>seller</th>\n",
       "      <th>offer_type</th>\n",
       "      <th>price</th>\n",
       "      <th>abtest</th>\n",
       "      <th>vehicleType</th>\n",
       "      <th>registration_year</th>\n",
       "      <th>gearbox</th>\n",
       "      <th>power_ps</th>\n",
       "      <th>model</th>\n",
       "      <th>odometer</th>\n",
       "      <th>registration_month</th>\n",
       "      <th>fuel_type</th>\n",
       "      <th>brand</th>\n",
       "      <th>unrepaired_damage</th>\n",
       "      <th>ad_created</th>\n",
       "      <th>picture_amount</th>\n",
       "      <th>postal_code</th>\n",
       "      <th>last_seen</th>\n",
       "    </tr>\n",
       "  </thead>\n",
       "  <tbody>\n",
       "    <tr>\n",
       "      <th>0</th>\n",
       "      <td>2016-03-26 17:47:46</td>\n",
       "      <td>Peugeot_807_160_NAVTECH_ON_BOARD</td>\n",
       "      <td>privat</td>\n",
       "      <td>Angebot</td>\n",
       "      <td>$5,000</td>\n",
       "      <td>control</td>\n",
       "      <td>bus</td>\n",
       "      <td>2004</td>\n",
       "      <td>manuell</td>\n",
       "      <td>158</td>\n",
       "      <td>andere</td>\n",
       "      <td>150,000km</td>\n",
       "      <td>3</td>\n",
       "      <td>lpg</td>\n",
       "      <td>peugeot</td>\n",
       "      <td>nein</td>\n",
       "      <td>2016-03-26 00:00:00</td>\n",
       "      <td>0</td>\n",
       "      <td>79588</td>\n",
       "      <td>2016-04-06 06:45:54</td>\n",
       "    </tr>\n",
       "    <tr>\n",
       "      <th>1</th>\n",
       "      <td>2016-04-04 13:38:56</td>\n",
       "      <td>BMW_740i_4_4_Liter_HAMANN_UMBAU_Mega_Optik</td>\n",
       "      <td>privat</td>\n",
       "      <td>Angebot</td>\n",
       "      <td>$8,500</td>\n",
       "      <td>control</td>\n",
       "      <td>limousine</td>\n",
       "      <td>1997</td>\n",
       "      <td>automatik</td>\n",
       "      <td>286</td>\n",
       "      <td>7er</td>\n",
       "      <td>150,000km</td>\n",
       "      <td>6</td>\n",
       "      <td>benzin</td>\n",
       "      <td>bmw</td>\n",
       "      <td>nein</td>\n",
       "      <td>2016-04-04 00:00:00</td>\n",
       "      <td>0</td>\n",
       "      <td>71034</td>\n",
       "      <td>2016-04-06 14:45:08</td>\n",
       "    </tr>\n",
       "  </tbody>\n",
       "</table>\n",
       "</div>"
      ],
      "text/plain": [
       "            crawl_date                                        name  seller  \\\n",
       "0  2016-03-26 17:47:46            Peugeot_807_160_NAVTECH_ON_BOARD  privat   \n",
       "1  2016-04-04 13:38:56  BMW_740i_4_4_Liter_HAMANN_UMBAU_Mega_Optik  privat   \n",
       "\n",
       "  offer_type   price   abtest vehicleType  registration_year    gearbox  \\\n",
       "0    Angebot  $5,000  control         bus               2004    manuell   \n",
       "1    Angebot  $8,500  control   limousine               1997  automatik   \n",
       "\n",
       "   power_ps   model   odometer  registration_month fuel_type    brand  \\\n",
       "0       158  andere  150,000km                   3       lpg  peugeot   \n",
       "1       286     7er  150,000km                   6    benzin      bmw   \n",
       "\n",
       "  unrepaired_damage           ad_created  picture_amount  postal_code  \\\n",
       "0              nein  2016-03-26 00:00:00               0        79588   \n",
       "1              nein  2016-04-04 00:00:00               0        71034   \n",
       "\n",
       "             last_seen  \n",
       "0  2016-04-06 06:45:54  \n",
       "1  2016-04-06 14:45:08  "
      ]
     },
     "execution_count": 7,
     "metadata": {},
     "output_type": "execute_result"
    }
   ],
   "source": [
    "autos.head(2)"
   ]
  },
  {
   "cell_type": "markdown",
   "metadata": {},
   "source": [
    "Above, columns names were changed to match that of snake type and not camel case. That is the typical format of Python code. Camel case is more prominent in OOP languages."
   ]
  },
  {
   "cell_type": "code",
   "execution_count": 8,
   "metadata": {},
   "outputs": [
    {
     "data": {
      "text/plain": [
       "<bound method NDFrame.describe of                 crawl_date                                               name  \\\n",
       "0      2016-03-26 17:47:46                   Peugeot_807_160_NAVTECH_ON_BOARD   \n",
       "1      2016-04-04 13:38:56         BMW_740i_4_4_Liter_HAMANN_UMBAU_Mega_Optik   \n",
       "2      2016-03-26 18:57:24                         Volkswagen_Golf_1.6_United   \n",
       "3      2016-03-12 16:58:10  Smart_smart_fortwo_coupe_softouch/F1/Klima/Pan...   \n",
       "4      2016-04-01 14:38:50  Ford_Focus_1_6_Benzin_TÜV_neu_ist_sehr_gepfleg...   \n",
       "...                    ...                                                ...   \n",
       "49995  2016-03-27 14:38:19   Audi_Q5_3.0_TDI_qu._S_tr.__Navi__Panorama__Xenon   \n",
       "49996  2016-03-28 10:50:25  Opel_Astra_F_Cabrio_Bertone_Edition___TÜV_neu+...   \n",
       "49997  2016-04-02 14:44:48                     Fiat_500_C_1.2_Dualogic_Lounge   \n",
       "49998  2016-03-08 19:25:42                 Audi_A3_2.0_TDI_Sportback_Ambition   \n",
       "49999  2016-03-14 00:42:12                                Opel_Vectra_1.6_16V   \n",
       "\n",
       "       seller offer_type    price   abtest vehicleType  registration_year  \\\n",
       "0      privat    Angebot   $5,000  control         bus               2004   \n",
       "1      privat    Angebot   $8,500  control   limousine               1997   \n",
       "2      privat    Angebot   $8,990     test   limousine               2009   \n",
       "3      privat    Angebot   $4,350  control  kleinwagen               2007   \n",
       "4      privat    Angebot   $1,350     test       kombi               2003   \n",
       "...       ...        ...      ...      ...         ...                ...   \n",
       "49995  privat    Angebot  $24,900  control   limousine               2011   \n",
       "49996  privat    Angebot   $1,980  control      cabrio               1996   \n",
       "49997  privat    Angebot  $13,200     test      cabrio               2014   \n",
       "49998  privat    Angebot  $22,900  control       kombi               2013   \n",
       "49999  privat    Angebot   $1,250  control   limousine               1996   \n",
       "\n",
       "         gearbox  power_ps   model   odometer  registration_month fuel_type  \\\n",
       "0        manuell       158  andere  150,000km                   3       lpg   \n",
       "1      automatik       286     7er  150,000km                   6    benzin   \n",
       "2        manuell       102    golf   70,000km                   7    benzin   \n",
       "3      automatik        71  fortwo   70,000km                   6    benzin   \n",
       "4        manuell         0   focus  150,000km                   7    benzin   \n",
       "...          ...       ...     ...        ...                 ...       ...   \n",
       "49995  automatik       239      q5  100,000km                   1    diesel   \n",
       "49996    manuell        75   astra  150,000km                   5    benzin   \n",
       "49997  automatik        69     500    5,000km                  11    benzin   \n",
       "49998    manuell       150      a3   40,000km                  11    diesel   \n",
       "49999    manuell       101  vectra  150,000km                   1    benzin   \n",
       "\n",
       "            brand unrepaired_damage           ad_created  picture_amount  \\\n",
       "0         peugeot              nein  2016-03-26 00:00:00               0   \n",
       "1             bmw              nein  2016-04-04 00:00:00               0   \n",
       "2      volkswagen              nein  2016-03-26 00:00:00               0   \n",
       "3           smart              nein  2016-03-12 00:00:00               0   \n",
       "4            ford              nein  2016-04-01 00:00:00               0   \n",
       "...           ...               ...                  ...             ...   \n",
       "49995        audi              nein  2016-03-27 00:00:00               0   \n",
       "49996        opel              nein  2016-03-28 00:00:00               0   \n",
       "49997        fiat              nein  2016-04-02 00:00:00               0   \n",
       "49998        audi              nein  2016-03-08 00:00:00               0   \n",
       "49999        opel              nein  2016-03-13 00:00:00               0   \n",
       "\n",
       "       postal_code            last_seen  \n",
       "0            79588  2016-04-06 06:45:54  \n",
       "1            71034  2016-04-06 14:45:08  \n",
       "2            35394  2016-04-06 20:15:37  \n",
       "3            33729  2016-03-15 03:16:28  \n",
       "4            39218  2016-04-01 14:38:50  \n",
       "...            ...                  ...  \n",
       "49995        82131  2016-04-01 13:47:40  \n",
       "49996        44807  2016-04-02 14:18:02  \n",
       "49997        73430  2016-04-04 11:47:27  \n",
       "49998        35683  2016-04-05 16:45:07  \n",
       "49999        45897  2016-04-06 21:18:48  \n",
       "\n",
       "[50000 rows x 20 columns]>"
      ]
     },
     "execution_count": 8,
     "metadata": {},
     "output_type": "execute_result"
    }
   ],
   "source": [
    "autos.describe"
   ]
  },
  {
   "cell_type": "markdown",
   "metadata": {},
   "source": [
    "Seller is commonly private, can be dropped. Unrepaired Damage is typically nein, can be dropped. Picture amount typically 0. "
   ]
  },
  {
   "cell_type": "code",
   "execution_count": 9,
   "metadata": {},
   "outputs": [
    {
     "name": "stdout",
     "output_type": "stream",
     "text": [
      "0         5000\n",
      "1         8500\n",
      "2         8990\n",
      "3         4350\n",
      "4         1350\n",
      "         ...  \n",
      "49995    24900\n",
      "49996     1980\n",
      "49997    13200\n",
      "49998    22900\n",
      "49999     1250\n",
      "Name: price, Length: 50000, dtype: int64\n"
     ]
    }
   ],
   "source": [
    "#Price transformation to int\n",
    "autos['price'] = autos.loc[:,'price'].str.replace('$','')\n",
    "autos['price'] = autos.loc[:,'price'].str.replace(',','')\n",
    "autos['price'] = autos['price'].astype(int)\n",
    "\n",
    "print(autos['price'])"
   ]
  },
  {
   "cell_type": "code",
   "execution_count": 11,
   "metadata": {
    "scrolled": true
   },
   "outputs": [
    {
     "name": "stdout",
     "output_type": "stream",
     "text": [
      "0        150000\n",
      "1        150000\n",
      "2         70000\n",
      "3         70000\n",
      "4        150000\n",
      "          ...  \n",
      "49995    100000\n",
      "49996    150000\n",
      "49997      5000\n",
      "49998     40000\n",
      "49999    150000\n",
      "Name: odometer, Length: 50000, dtype: int64\n"
     ]
    }
   ],
   "source": [
    "autos['odometer'] = autos.loc[:,'odometer'].str.replace('km','')\n",
    "autos['odometer'] = autos.loc[:,'odometer'].str.replace(',','')\n",
    "autos['odometer'] = autos['odometer'].astype(int)\n",
    "\n",
    "print(autos['odometer'])"
   ]
  },
  {
   "cell_type": "code",
   "execution_count": 12,
   "metadata": {},
   "outputs": [],
   "source": [
    "autos.rename(columns={'odometer': 'odometer_km'}, inplace=True)"
   ]
  },
  {
   "cell_type": "code",
   "execution_count": 18,
   "metadata": {},
   "outputs": [
    {
     "data": {
      "text/plain": [
       "0           1421\n",
       "1            156\n",
       "2              3\n",
       "3              1\n",
       "5              2\n",
       "            ... \n",
       "10000000       1\n",
       "11111111       2\n",
       "12345678       3\n",
       "27322222       1\n",
       "99999999       1\n",
       "Name: price, Length: 2357, dtype: int64"
      ]
     },
     "execution_count": 18,
     "metadata": {},
     "output_type": "execute_result"
    }
   ],
   "source": [
    "autos['price'].value_counts().sort_index()"
   ]
  },
  {
   "cell_type": "code",
   "execution_count": 21,
   "metadata": {},
   "outputs": [
    {
     "data": {
      "text/plain": [
       "count    5.000000e+04\n",
       "mean     9.840044e+03\n",
       "std      4.811044e+05\n",
       "min      0.000000e+00\n",
       "25%      1.100000e+03\n",
       "50%      2.950000e+03\n",
       "75%      7.200000e+03\n",
       "max      1.000000e+08\n",
       "Name: price, dtype: float64"
      ]
     },
     "execution_count": 21,
     "metadata": {},
     "output_type": "execute_result"
    }
   ],
   "source": [
    "autos['price'].describe()"
   ]
  },
  {
   "cell_type": "code",
   "execution_count": 24,
   "metadata": {},
   "outputs": [],
   "source": [
    "autos = autos[autos['price'].between(-0, 100000)]"
   ]
  },
  {
   "cell_type": "code",
   "execution_count": 25,
   "metadata": {},
   "outputs": [
    {
     "data": {
      "text/html": [
       "<div>\n",
       "<style scoped>\n",
       "    .dataframe tbody tr th:only-of-type {\n",
       "        vertical-align: middle;\n",
       "    }\n",
       "\n",
       "    .dataframe tbody tr th {\n",
       "        vertical-align: top;\n",
       "    }\n",
       "\n",
       "    .dataframe thead th {\n",
       "        text-align: right;\n",
       "    }\n",
       "</style>\n",
       "<table border=\"1\" class=\"dataframe\">\n",
       "  <thead>\n",
       "    <tr style=\"text-align: right;\">\n",
       "      <th></th>\n",
       "      <th>price</th>\n",
       "      <th>registration_year</th>\n",
       "      <th>power_ps</th>\n",
       "      <th>odometer_km</th>\n",
       "      <th>registration_month</th>\n",
       "      <th>picture_amount</th>\n",
       "      <th>postal_code</th>\n",
       "    </tr>\n",
       "  </thead>\n",
       "  <tbody>\n",
       "    <tr>\n",
       "      <th>count</th>\n",
       "      <td>49947.000000</td>\n",
       "      <td>49947.0000</td>\n",
       "      <td>49947.000000</td>\n",
       "      <td>49947.000000</td>\n",
       "      <td>49947.000000</td>\n",
       "      <td>49947.0</td>\n",
       "      <td>49947.000000</td>\n",
       "    </tr>\n",
       "    <tr>\n",
       "      <th>mean</th>\n",
       "      <td>5591.827157</td>\n",
       "      <td>2005.0755</td>\n",
       "      <td>116.136325</td>\n",
       "      <td>125801.549643</td>\n",
       "      <td>5.724108</td>\n",
       "      <td>0.0</td>\n",
       "      <td>50806.034296</td>\n",
       "    </tr>\n",
       "    <tr>\n",
       "      <th>std</th>\n",
       "      <td>7468.390182</td>\n",
       "      <td>105.7677</td>\n",
       "      <td>209.121328</td>\n",
       "      <td>39966.521087</td>\n",
       "      <td>3.712434</td>\n",
       "      <td>0.0</td>\n",
       "      <td>25777.569745</td>\n",
       "    </tr>\n",
       "    <tr>\n",
       "      <th>min</th>\n",
       "      <td>0.000000</td>\n",
       "      <td>1000.0000</td>\n",
       "      <td>0.000000</td>\n",
       "      <td>5000.000000</td>\n",
       "      <td>0.000000</td>\n",
       "      <td>0.0</td>\n",
       "      <td>1067.000000</td>\n",
       "    </tr>\n",
       "    <tr>\n",
       "      <th>25%</th>\n",
       "      <td>1100.000000</td>\n",
       "      <td>1999.0000</td>\n",
       "      <td>69.500000</td>\n",
       "      <td>125000.000000</td>\n",
       "      <td>3.000000</td>\n",
       "      <td>0.0</td>\n",
       "      <td>30449.000000</td>\n",
       "    </tr>\n",
       "    <tr>\n",
       "      <th>50%</th>\n",
       "      <td>2900.000000</td>\n",
       "      <td>2003.0000</td>\n",
       "      <td>105.000000</td>\n",
       "      <td>150000.000000</td>\n",
       "      <td>6.000000</td>\n",
       "      <td>0.0</td>\n",
       "      <td>49565.000000</td>\n",
       "    </tr>\n",
       "    <tr>\n",
       "      <th>75%</th>\n",
       "      <td>7200.000000</td>\n",
       "      <td>2008.0000</td>\n",
       "      <td>150.000000</td>\n",
       "      <td>150000.000000</td>\n",
       "      <td>9.000000</td>\n",
       "      <td>0.0</td>\n",
       "      <td>71522.000000</td>\n",
       "    </tr>\n",
       "    <tr>\n",
       "      <th>max</th>\n",
       "      <td>99900.000000</td>\n",
       "      <td>9999.0000</td>\n",
       "      <td>17700.000000</td>\n",
       "      <td>150000.000000</td>\n",
       "      <td>12.000000</td>\n",
       "      <td>0.0</td>\n",
       "      <td>99998.000000</td>\n",
       "    </tr>\n",
       "  </tbody>\n",
       "</table>\n",
       "</div>"
      ],
      "text/plain": [
       "              price  registration_year      power_ps    odometer_km  \\\n",
       "count  49947.000000         49947.0000  49947.000000   49947.000000   \n",
       "mean    5591.827157          2005.0755    116.136325  125801.549643   \n",
       "std     7468.390182           105.7677    209.121328   39966.521087   \n",
       "min        0.000000          1000.0000      0.000000    5000.000000   \n",
       "25%     1100.000000          1999.0000     69.500000  125000.000000   \n",
       "50%     2900.000000          2003.0000    105.000000  150000.000000   \n",
       "75%     7200.000000          2008.0000    150.000000  150000.000000   \n",
       "max    99900.000000          9999.0000  17700.000000  150000.000000   \n",
       "\n",
       "       registration_month  picture_amount   postal_code  \n",
       "count        49947.000000         49947.0  49947.000000  \n",
       "mean             5.724108             0.0  50806.034296  \n",
       "std              3.712434             0.0  25777.569745  \n",
       "min              0.000000             0.0   1067.000000  \n",
       "25%              3.000000             0.0  30449.000000  \n",
       "50%              6.000000             0.0  49565.000000  \n",
       "75%              9.000000             0.0  71522.000000  \n",
       "max             12.000000             0.0  99998.000000  "
      ]
     },
     "execution_count": 25,
     "metadata": {},
     "output_type": "execute_result"
    }
   ],
   "source": [
    "autos.describe()"
   ]
  },
  {
   "cell_type": "code",
   "execution_count": 27,
   "metadata": {},
   "outputs": [
    {
     "data": {
      "text/plain": [
       "150000    32413\n",
       "125000     5167\n",
       "100000     2166\n",
       "90000      1757\n",
       "80000      1435\n",
       "70000      1230\n",
       "60000      1162\n",
       "50000      1023\n",
       "5000        957\n",
       "40000       817\n",
       "30000       783\n",
       "20000       776\n",
       "10000       261\n",
       "Name: odometer_km, dtype: int64"
      ]
     },
     "execution_count": 27,
     "metadata": {},
     "output_type": "execute_result"
    }
   ],
   "source": [
    "autos['odometer_km'].value_counts()"
   ]
  },
  {
   "cell_type": "markdown",
   "metadata": {},
   "source": [
    "In the price column, there were very few cars that cost in the millions of dollars that skewed average price up to $900,000+. After removing cars over $100,000, only 53 records were removed. The odometer reading had no outliers after controlling the price column."
   ]
  },
  {
   "cell_type": "markdown",
   "metadata": {},
   "source": [
    "Distribution of Dates"
   ]
  },
  {
   "cell_type": "code",
   "execution_count": 30,
   "metadata": {},
   "outputs": [
    {
     "name": "stdout",
     "output_type": "stream",
     "text": [
      "2016-03-05 14:06:30    0.00002\n",
      "2016-03-05 14:06:40    0.00002\n",
      "2016-03-05 14:07:04    0.00002\n",
      "2016-03-05 14:07:08    0.00002\n",
      "2016-03-05 14:07:21    0.00002\n",
      "                        ...   \n",
      "2016-04-07 14:30:09    0.00002\n",
      "2016-04-07 14:30:26    0.00002\n",
      "2016-04-07 14:36:44    0.00002\n",
      "2016-04-07 14:36:55    0.00002\n",
      "2016-04-07 14:36:56    0.00002\n",
      "Name: crawl_date, Length: 48162, dtype: float64\n",
      "2015-06-11 00:00:00    0.000020\n",
      "2015-08-10 00:00:00    0.000020\n",
      "2015-09-09 00:00:00    0.000020\n",
      "2015-11-10 00:00:00    0.000020\n",
      "2015-12-05 00:00:00    0.000020\n",
      "                         ...   \n",
      "2016-04-03 00:00:00    0.038921\n",
      "2016-04-04 00:00:00    0.036879\n",
      "2016-04-05 00:00:00    0.011833\n",
      "2016-04-06 00:00:00    0.003263\n",
      "2016-04-07 00:00:00    0.001281\n",
      "Name: ad_created, Length: 76, dtype: float64\n",
      "2016-03-05 14:45:46    0.00002\n",
      "2016-03-05 14:46:02    0.00002\n",
      "2016-03-05 14:49:34    0.00002\n",
      "2016-03-05 15:16:11    0.00002\n",
      "2016-03-05 15:16:47    0.00002\n",
      "                        ...   \n",
      "2016-04-07 14:58:44    0.00006\n",
      "2016-04-07 14:58:45    0.00002\n",
      "2016-04-07 14:58:46    0.00002\n",
      "2016-04-07 14:58:48    0.00006\n",
      "2016-04-07 14:58:50    0.00008\n",
      "Name: last_seen, Length: 39447, dtype: float64\n"
     ]
    }
   ],
   "source": [
    "for i in ['crawl_date', 'ad_created', 'last_seen']:\n",
    "    print(autos[i].value_counts(normalize=True, dropna=False).sort_index())"
   ]
  },
  {
   "cell_type": "code",
   "execution_count": 31,
   "metadata": {},
   "outputs": [
    {
     "data": {
      "text/plain": [
       "count    49947.0000\n",
       "mean      2005.0755\n",
       "std        105.7677\n",
       "min       1000.0000\n",
       "25%       1999.0000\n",
       "50%       2003.0000\n",
       "75%       2008.0000\n",
       "max       9999.0000\n",
       "Name: registration_year, dtype: float64"
      ]
     },
     "execution_count": 31,
     "metadata": {},
     "output_type": "execute_result"
    }
   ],
   "source": [
    "autos['registration_year'].describe()"
   ]
  },
  {
   "cell_type": "code",
   "execution_count": 32,
   "metadata": {},
   "outputs": [],
   "source": [
    "autos = autos[autos['registration_year'].astype(int).between(1886, 2023)]"
   ]
  },
  {
   "cell_type": "code",
   "execution_count": 33,
   "metadata": {},
   "outputs": [
    {
     "data": {
      "text/plain": [
       "2000    0.067163\n",
       "2005    0.060393\n",
       "1999    0.060052\n",
       "2004    0.054824\n",
       "2003    0.054624\n",
       "          ...   \n",
       "1943    0.000020\n",
       "1929    0.000020\n",
       "1938    0.000020\n",
       "1939    0.000020\n",
       "1952    0.000020\n",
       "Name: registration_year, Length: 81, dtype: float64"
      ]
     },
     "execution_count": 33,
     "metadata": {},
     "output_type": "execute_result"
    }
   ],
   "source": [
    "autos['registration_year'].value_counts(normalize=True)"
   ]
  },
  {
   "cell_type": "code",
   "execution_count": 37,
   "metadata": {},
   "outputs": [
    {
     "data": {
      "text/plain": [
       "volkswagen        0.213909\n",
       "opel              0.109308\n",
       "bmw               0.108647\n",
       "mercedes_benz     0.094706\n",
       "audi              0.085772\n",
       "ford              0.069627\n",
       "renault           0.048154\n",
       "peugeot           0.029165\n",
       "fiat              0.026180\n",
       "seat              0.018829\n",
       "skoda             0.015724\n",
       "mazda             0.015163\n",
       "nissan            0.015103\n",
       "smart             0.014042\n",
       "citroen           0.014002\n",
       "toyota            0.012359\n",
       "sonstige_autos    0.010696\n",
       "hyundai           0.009775\n",
       "volvo             0.009134\n",
       "mini              0.008493\n",
       "mitsubishi        0.008092\n",
       "honda             0.007992\n",
       "kia               0.007131\n",
       "alfa_romeo        0.006590\n",
       "suzuki            0.005869\n",
       "chevrolet         0.005669\n",
       "porsche           0.005368\n",
       "chrysler          0.003626\n",
       "dacia             0.002584\n",
       "daihatsu          0.002564\n",
       "jeep              0.002183\n",
       "subaru            0.002163\n",
       "land_rover        0.001983\n",
       "saab              0.001582\n",
       "daewoo            0.001582\n",
       "trabant           0.001542\n",
       "jaguar            0.001542\n",
       "rover             0.001382\n",
       "lancia            0.001142\n",
       "lada              0.000621\n",
       "Name: brand, dtype: float64"
      ]
     },
     "execution_count": 37,
     "metadata": {},
     "output_type": "execute_result"
    }
   ],
   "source": [
    "autos['brand'].value_counts(normalize=True)"
   ]
  },
  {
   "cell_type": "code",
   "execution_count": 40,
   "metadata": {},
   "outputs": [
    {
     "name": "stdout",
     "output_type": "stream",
     "text": [
      "              price  registration_year      power_ps    odometer_km  \\\n",
      "count  10679.000000       10679.000000  10679.000000   10679.000000   \n",
      "mean    5159.401629        2003.047945     98.328776  129006.461279   \n",
      "std     6122.453522           7.779562    132.572841   38577.813103   \n",
      "min        0.000000        1943.000000      0.000000    5000.000000   \n",
      "25%     1100.000000        1998.000000     60.000000  125000.000000   \n",
      "50%     2800.000000        2003.000000    100.000000  150000.000000   \n",
      "75%     7100.000000        2008.000000    125.000000  150000.000000   \n",
      "max    64500.000000        2018.000000   9011.000000  150000.000000   \n",
      "\n",
      "       registration_month  picture_amount   postal_code  \n",
      "count        10679.000000         10679.0  10679.000000  \n",
      "mean             5.638449             0.0  49135.604551  \n",
      "std              3.746148             0.0  26154.887102  \n",
      "min              0.000000             0.0   1067.000000  \n",
      "25%              3.000000             0.0  27751.000000  \n",
      "50%              5.000000             0.0  46562.000000  \n",
      "75%              9.000000             0.0  70771.000000  \n",
      "max             12.000000             0.0  99998.000000  \n",
      "              price  registration_year      power_ps    odometer_km  \\\n",
      "count   5457.000000        5457.000000   5457.000000    5457.000000   \n",
      "mean    2842.824629        2002.869342     93.928899  129361.370717   \n",
      "std     3551.989378           7.342029    231.260803   37389.620977   \n",
      "min        0.000000        1910.000000      0.000000    5000.000000   \n",
      "25%      700.000000        1998.000000     60.000000  125000.000000   \n",
      "50%     1500.000000        2002.000000     90.000000  150000.000000   \n",
      "75%     3600.000000        2007.000000    120.000000  150000.000000   \n",
      "max    38990.000000        2018.000000  14009.000000  150000.000000   \n",
      "\n",
      "       registration_month  picture_amount   postal_code  \n",
      "count         5457.000000          5457.0   5457.000000  \n",
      "mean             5.457761             0.0  49527.243357  \n",
      "std              3.786080             0.0  25027.117057  \n",
      "min              0.000000             0.0   1069.000000  \n",
      "25%              2.000000             0.0  30451.000000  \n",
      "50%              5.000000             0.0  48159.000000  \n",
      "75%              9.000000             0.0  66346.000000  \n",
      "max             12.000000             0.0  99974.000000  \n",
      "              price  registration_year      power_ps    odometer_km  \\\n",
      "count   5424.000000        5424.000000   5424.000000    5424.000000   \n",
      "mean    7904.043326        2003.313791    165.394174  132598.635693   \n",
      "std     8147.429316           6.688340    252.773017   35182.140410   \n",
      "min        0.000000        1929.000000      0.000000    5000.000000   \n",
      "25%     2037.500000        1999.000000    122.000000  125000.000000   \n",
      "50%     5500.000000        2004.000000    163.000000  150000.000000   \n",
      "75%    10900.000000        2008.000000    193.000000  150000.000000   \n",
      "max    72900.000000        2018.000000  17700.000000  150000.000000   \n",
      "\n",
      "       registration_month  picture_amount   postal_code  \n",
      "count         5424.000000          5424.0   5424.000000  \n",
      "mean             5.954646             0.0  54982.865782  \n",
      "std              3.698354             0.0  25600.428273  \n",
      "min              0.000000             0.0   1067.000000  \n",
      "25%              3.000000             0.0  34346.000000  \n",
      "50%              6.000000             0.0  55252.000000  \n",
      "75%              9.000000             0.0  77662.500000  \n",
      "max             12.000000             0.0  99986.000000  \n",
      "              price  registration_year     power_ps    odometer_km  \\\n",
      "count   4728.000000        4728.000000  4728.000000    4728.000000   \n",
      "mean    8286.548012        2002.478638   149.654188  130993.020305   \n",
      "std     9403.183573           8.130648    94.340560   36451.766513   \n",
      "min        0.000000        1937.000000     0.000000    5000.000000   \n",
      "25%     2100.000000        1999.000000   109.000000  125000.000000   \n",
      "50%     4950.000000        2003.000000   143.000000  150000.000000   \n",
      "75%    11000.000000        2007.000000   185.000000  150000.000000   \n",
      "max    99900.000000        2018.000000  1796.000000  150000.000000   \n",
      "\n",
      "       registration_month  picture_amount   postal_code  \n",
      "count         4728.000000          4728.0   4728.000000  \n",
      "mean             6.034687             0.0  51392.357445  \n",
      "std              3.614965             0.0  24865.294980  \n",
      "min              0.000000             0.0   1067.000000  \n",
      "25%              3.000000             0.0  30926.000000  \n",
      "50%              6.000000             0.0  50181.000000  \n",
      "75%              9.000000             0.0  71293.000000  \n",
      "max             12.000000             0.0  99974.000000  \n",
      "              price  registration_year      power_ps    odometer_km  \\\n",
      "count   4282.000000        4282.000000   4282.000000    4282.000000   \n",
      "mean    8926.785381        2004.478982    158.546007  129673.049977   \n",
      "std     9606.241240           6.634563    259.585386   38765.980933   \n",
      "min        0.000000        1968.000000      0.000000    5000.000000   \n",
      "25%     2000.000000        2000.000000    116.000000  125000.000000   \n",
      "50%     5865.000000        2005.000000    150.000000  150000.000000   \n",
      "75%    12596.750000        2009.000000    180.000000  150000.000000   \n",
      "max    80000.000000        2018.000000  16312.000000  150000.000000   \n",
      "\n",
      "       registration_month  picture_amount   postal_code  \n",
      "count         4282.000000          4282.0   4282.000000  \n",
      "mean             6.018683             0.0  54541.972910  \n",
      "std              3.683917             0.0  26576.824661  \n",
      "min              0.000000             0.0   1067.000000  \n",
      "25%              3.000000             0.0  32805.000000  \n",
      "50%              6.000000             0.0  54471.000000  \n",
      "75%              9.000000             0.0  78598.500000  \n",
      "max             12.000000             0.0  99994.000000  \n",
      "              price  registration_year      power_ps    odometer_km  \\\n",
      "count   3476.000000        3476.000000   3476.000000    3476.000000   \n",
      "mean    3590.186997        2003.201669     99.361335  124174.338320   \n",
      "std     5263.651112           7.835827    264.371966   40110.209149   \n",
      "min        0.000000        1927.000000      0.000000    5000.000000   \n",
      "25%      700.000000        1999.000000     60.000000  100000.000000   \n",
      "50%     1700.000000        2003.000000     95.000000  150000.000000   \n",
      "75%     4200.000000        2007.000000    120.000000  150000.000000   \n",
      "max    73500.000000        2018.000000  15001.000000  150000.000000   \n",
      "\n",
      "       registration_month  picture_amount   postal_code  \n",
      "count         3476.000000          3476.0   3476.000000  \n",
      "mean             5.602417             0.0  49380.506904  \n",
      "std              3.728889             0.0  25106.950160  \n",
      "min              0.000000             0.0   1097.000000  \n",
      "25%              3.000000             0.0  29317.000000  \n",
      "50%              5.000000             0.0  49617.000000  \n",
      "75%              9.000000             0.0  66886.750000  \n",
      "max             12.000000             0.0  99974.000000  \n",
      "              price  registration_year     power_ps    odometer_km  \\\n",
      "count   2404.000000        2404.000000  2404.000000    2404.000000   \n",
      "mean    2351.301997        2003.604825    78.779534  128223.793677   \n",
      "std     3478.920060           6.571562   159.924479   37450.011620   \n",
      "min        0.000000        1910.000000     0.000000    5000.000000   \n",
      "25%      696.750000        1999.000000    58.000000  125000.000000   \n",
      "50%     1300.000000        2002.000000    75.000000  150000.000000   \n",
      "75%     2792.250000        2007.000000   107.000000  150000.000000   \n",
      "max    93000.000000        2018.000000  7511.000000  150000.000000   \n",
      "\n",
      "       registration_month  picture_amount   postal_code  \n",
      "count         2404.000000          2404.0   2404.000000  \n",
      "mean             5.590266             0.0  47472.488353  \n",
      "std              3.719985             0.0  24089.670320  \n",
      "min              0.000000             0.0   1097.000000  \n",
      "25%              3.000000             0.0  28239.000000  \n",
      "50%              5.000000             0.0  46539.000000  \n",
      "75%              9.000000             0.0  65203.000000  \n",
      "max             12.000000             0.0  99974.000000  \n"
     ]
    }
   ],
   "source": [
    "for i in ['volkswagen', 'opel', 'bmw', 'mercedes_benz', 'audi', 'ford', 'renault']:\n",
    "    print(autos[autos['brand'] == i].describe())"
   ]
  },
  {
   "cell_type": "code",
   "execution_count": null,
   "metadata": {},
   "outputs": [],
   "source": []
  }
 ],
 "metadata": {
  "kernelspec": {
   "display_name": "Python 3",
   "language": "python",
   "name": "python3"
  },
  "language_info": {
   "codemirror_mode": {
    "name": "ipython",
    "version": 3
   },
   "file_extension": ".py",
   "mimetype": "text/x-python",
   "name": "python",
   "nbconvert_exporter": "python",
   "pygments_lexer": "ipython3",
   "version": "3.8.2"
  }
 },
 "nbformat": 4,
 "nbformat_minor": 2
}
